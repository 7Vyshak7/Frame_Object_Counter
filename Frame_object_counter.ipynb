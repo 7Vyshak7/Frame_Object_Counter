{
 "cells": [
  {
   "cell_type": "code",
   "execution_count": 12,
   "id": "bd80efdd",
   "metadata": {},
   "outputs": [],
   "source": [
    "import torch\n",
    "import cv2\n",
    "import pyautogui as pg\n",
    "import numpy as np\n",
    "import pandas as pd\n",
    "import os\n",
    "from datetime import datetime"
   ]
  },
  {
   "cell_type": "code",
   "execution_count": 13,
   "id": "d7bc2b97",
   "metadata": {},
   "outputs": [],
   "source": [
    "path=os.getcwd()+'\\\\ultralytics_yolov5_master'"
   ]
  },
  {
   "cell_type": "code",
   "execution_count": 14,
   "id": "dd6f466d",
   "metadata": {},
   "outputs": [
    {
     "name": "stderr",
     "output_type": "stream",
     "text": [
      "YOLOv5  2022-11-5 Python-3.7.5 torch-1.13.0 CUDA:0 (NVIDIA GeForce RTX 3050 Laptop GPU, 4096MiB)\n",
      "\n",
      "Fusing layers... \n",
      "YOLOv5s summary: 213 layers, 7225885 parameters, 0 gradients\n",
      "Adding AutoShape... \n"
     ]
    }
   ],
   "source": [
    "model = torch.hub.load(path, 'yolov5s',source='local',force_reload=True)"
   ]
  },
  {
   "cell_type": "code",
   "execution_count": 15,
   "id": "45d30c95",
   "metadata": {},
   "outputs": [],
   "source": [
    "w=pg.size().width\n",
    "h=pg.size().height"
   ]
  },
  {
   "cell_type": "code",
   "execution_count": 16,
   "id": "122124cf",
   "metadata": {},
   "outputs": [],
   "source": [
    "cap=cv2.VideoCapture(0)"
   ]
  },
  {
   "cell_type": "code",
   "execution_count": 17,
   "id": "28c0a48a",
   "metadata": {},
   "outputs": [],
   "source": [
    "df=pd.DataFrame(columns=['Object_Counts','Time'])\n",
    "now = datetime.now()\n",
    "T=str(now).split(' ')[1]"
   ]
  },
  {
   "cell_type": "code",
   "execution_count": 18,
   "id": "083200c0",
   "metadata": {},
   "outputs": [],
   "source": [
    "while True:\n",
    "    ret,frame=cap.read()\n",
    "# uncomment below portion and comment above line, if you want to do object detction from the screen itself(half portion)\n",
    "#     frame=np.array(pg.screenshot(region=(0,0,w/2,h)))#take screen recording of half portion of the screen(other half can be used for detecting objects)\n",
    "#     frame=cv2.cvtColor(frame,cv2.COLOR_BGR2RGB)\n",
    "    frame=cv2.resize(frame,(1200,800))\n",
    "    res=model(frame)\n",
    "    res.render()\n",
    "    for i in range(len(res.xyxy)):\n",
    "        x=res.pandas().xyxy[i]['name'].value_counts()\n",
    "        j=str(x)\n",
    "        c=0\n",
    "        for m in j.split('\\n')[:-1]:\n",
    "            cv2.putText(frame,str(m),(50, 50+c),cv2.FONT_HERSHEY_SIMPLEX,1,(255,0,0),2)\n",
    "            c+=30\n",
    "        if cv2.waitKey(1) == ord('w'):# press w to write the objects counts in a frame to csv\n",
    "            df=df.append({'Object_Counts':str(' , '.join(j.split('\\n')[:-1])),'Time':T},ignore_index=True)\n",
    "            df.to_csv('results.csv')\n",
    "    if cap:\n",
    "        frame=frame\n",
    "    else:\n",
    "        frame=cv2.resize(frame,(int(w/2),int(h)))\n",
    "    cv2.imshow('live',frame)\n",
    "    if cv2.waitKey(1) == ord('q'):# press q to quit\n",
    "        cv2.destroyAllWindows()\n",
    "        break"
   ]
  },
  {
   "cell_type": "code",
   "execution_count": 11,
   "id": "2ea6275d",
   "metadata": {},
   "outputs": [],
   "source": [
    "cv2.destroyAllWindows()"
   ]
  },
  {
   "cell_type": "code",
   "execution_count": null,
   "id": "5f934897",
   "metadata": {},
   "outputs": [],
   "source": []
  }
 ],
 "metadata": {
  "kernelspec": {
   "display_name": "Python 3 (ipykernel)",
   "language": "python",
   "name": "python3"
  },
  "language_info": {
   "codemirror_mode": {
    "name": "ipython",
    "version": 3
   },
   "file_extension": ".py",
   "mimetype": "text/x-python",
   "name": "python",
   "nbconvert_exporter": "python",
   "pygments_lexer": "ipython3",
   "version": "3.7.5"
  }
 },
 "nbformat": 4,
 "nbformat_minor": 5
}
